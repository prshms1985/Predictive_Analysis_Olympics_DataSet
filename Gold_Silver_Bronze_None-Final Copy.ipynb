{
 "cells": [
  {
   "cell_type": "code",
   "execution_count": 12,
   "metadata": {
    "collapsed": true
   },
   "outputs": [],
   "source": [
    "%matplotlib inline\n",
    "import matplotlib.pyplot as plt\n",
    "import pandas as pd\n",
    "from pandas import DataFrame\n",
    "import numpy as np\n",
    "from sklearn.model_selection import train_test_split\n",
    "#from sklearn.model_selection import cross_validate\n",
    "#from sklearn import cross_validation\n",
    "from sklearn import preprocessing\n",
    "from sklearn.preprocessing import LabelEncoder\n",
    "from sklearn.preprocessing import OneHotEncoder\n",
    "from sklearn.decomposition import PCA\n",
    "from mpl_toolkits.mplot3d import axes3d\n",
    "from sklearn.metrics import classification_report, accuracy_score, confusion_matrix\n",
    "from sklearn.svm import SVC, LinearSVC\n",
    "from matplotlib.collections import LineCollection\n",
    "from mpl_toolkits.mplot3d.art3d import Line3DCollection\n",
    "\n",
    "# Processing the data\n",
    "\n",
    "col_names = ['ID','Name','Sex','Age','Height','Weight','Team','NOC', 'Games','Year','Season','City','Sport','Event','Medal','Gam_Med_Bro','Gam_Med_Sil','Gam_Med_Gol','Gam_Med_Non','1896-1924-0','1896-1924-1','1896-1924-2','1896-1924-3','1928-1956-0','1928-1956-1','1928-1956-2','1928-1956-3','1960-1988-0','1960-1988-1','1960-1988-2','1960-1988-3','1992-2016-0','1992-2016-1','1992-2016-2','1992-2016-3','Ath_Cnt']\n",
    "\n",
    "df = pd.read_csv('athletes_Medal_Type.csv', usecols=col_names)\n",
    "\n",
    "df['Medal'].fillna(0, inplace=True)\n",
    "df = df.replace({'Medal': {'Gold': 3, 'Silver': 2, 'Bronze': 1}})\n",
    "df = df.dropna(axis=0)\n",
    "#print (df.shape)\n",
    "#print (df)\n",
    "\n",
    "# Storing numeric values after enumeration in python dictionary to be referenced later for testing on new data\n",
    "\n",
    "NOC_Map = {}\n",
    "\n",
    "for i, j in enumerate(np.unique(df['NOC'])):\n",
    "    NOC_Map[j] = i\n",
    "\n",
    "Sport_Map = {}\n",
    "\n",
    "for i, j in enumerate(np.unique(df['Sport'])):\n",
    "    Sport_Map[j] = i\n",
    "\n",
    "Event_Map = {}\n",
    "\n",
    "for i, j in enumerate(np.unique(df['Event'])):\n",
    "    Event_Map[j] = i\n",
    "\n",
    "#print (Sport_Map)"
   ]
  },
  {
   "cell_type": "code",
   "execution_count": 13,
   "metadata": {},
   "outputs": [
    {
     "name": "stderr",
     "output_type": "stream",
     "text": [
      "C:\\Users\\Prashamsh\\Anaconda3\\lib\\site-packages\\sklearn\\preprocessing\\_encoders.py:368: FutureWarning: The handling of integer data will change in version 0.22. Currently, the categories are determined based on the range [0, max(values)], while in the future they will be determined based on the unique values.\n",
      "If you want the future behaviour and silence this warning, you can specify \"categories='auto'\".\n",
      "In case you used a LabelEncoder before this OneHotEncoder to convert the categories to integers, then you can now use the OneHotEncoder directly.\n",
      "  warnings.warn(msg, FutureWarning)\n",
      "C:\\Users\\Prashamsh\\Anaconda3\\lib\\site-packages\\sklearn\\preprocessing\\_encoders.py:390: DeprecationWarning: The 'categorical_features' keyword is deprecated in version 0.20 and will be removed in 0.22. You can use the ColumnTransformer instead.\n",
      "  \"use the ColumnTransformer instead.\", DeprecationWarning)\n",
      "C:\\Users\\Prashamsh\\Anaconda3\\lib\\site-packages\\ipykernel_launcher.py:70: FutureWarning: Method .as_matrix will be removed in a future version. Use .values instead.\n",
      "C:\\Users\\Prashamsh\\Anaconda3\\lib\\site-packages\\ipykernel_launcher.py:72: FutureWarning: Method .as_matrix will be removed in a future version. Use .values instead.\n"
     ]
    }
   ],
   "source": [
    "# Converting strings to int using enumerate() function\n",
    "class_mapping = {label: idx for idx, label in enumerate(np.unique(df['NOC']))}\n",
    "class_mapping\n",
    "df['NOC'] = df['NOC'].map(class_mapping)\n",
    "df\n",
    "\n",
    "class_mapping = {label: idx for idx, label in enumerate(np.unique(df['City']))}\n",
    "class_mapping\n",
    "df['City'] = df['City'].map(class_mapping)\n",
    "df\n",
    "\n",
    "class_mapping = {label: idx for idx, label in enumerate(np.unique(df['Name']))}\n",
    "class_mapping\n",
    "df['Name'] = df['Name'].map(class_mapping)\n",
    "df\n",
    "\n",
    "class_mapping = {label: idx for idx, label in enumerate(np.unique(df['Team']))}\n",
    "class_mapping\n",
    "df['Team'] = df['Team'].map(class_mapping)\n",
    "df\n",
    "\n",
    "class_mapping = {label: idx for idx, label in enumerate(np.unique(df['Games']))}\n",
    "class_mapping\n",
    "df['Games'] = df['Games'].map(class_mapping)\n",
    "df\n",
    "\n",
    "'''class_mapping = {label: idx for idx, label in enumerate(np.unique(df['Season']))}\n",
    "class_mapping\n",
    "df['Season'] = df['Season'].map(class_mapping)\n",
    "df'''\n",
    "\n",
    "'''class_mapping = {label: idx for idx, label in enumerate(np.unique(df['Sex']))}\n",
    "class_mapping\n",
    "df['Sex'] = df['Sex'].map(class_mapping)\n",
    "df'''\n",
    "\n",
    "class_mapping = {label: idx for idx, label in enumerate(np.unique(df['Sport']))}\n",
    "class_mapping\n",
    "df['Sport'] = df['Sport'].map(class_mapping)\n",
    "df\n",
    "\n",
    "class_mapping = {label: idx for idx, label in enumerate(np.unique(df['Event']))}\n",
    "class_mapping\n",
    "df['Event'] = df['Event'].map(class_mapping)\n",
    "df\n",
    "\n",
    "\n",
    "\n",
    "col_names = ['Name','Sex','Age','Height','Weight','Team','NOC', 'Games','Year','Season','City','Sport','Event','1896-1924-0','1896-1924-1','1896-1924-2','1896-1924-3','1928-1956-0','1928-1956-1','1928-1956-2','1928-1956-3','1960-1988-0','1960-1988-1','1960-1988-2','1960-1988-3','1992-2016-0','1992-2016-1','1992-2016-2','1992-2016-3']\n",
    "col_names1 = ['Sex','Name','Age','Height','Weight','NOC','Year','Season','Sport','Event','1896-1924-0','1896-1924-1','1896-1924-2','1896-1924-3','1928-1956-0','1928-1956-1','1928-1956-2','1928-1956-3','1960-1988-0','1960-1988-1','1960-1988-2','1960-1988-3','1992-2016-0','1992-2016-1','1992-2016-2','1992-2016-3']\n",
    "\n",
    "col_names2 = ['Sex','Age','Height','Weight','NOC','Year','Season','Sport','Event','Gam_Med_Bro','Gam_Med_Sil','Gam_Med_Gol','Gam_Med_Non','1896-1924-0','1896-1924-1','1896-1924-2','1896-1924-3','1928-1956-0','1928-1956-1','1928-1956-2','1928-1956-3','1960-1988-0','1960-1988-1','1960-1988-2','1960-1988-3','1992-2016-0','1992-2016-1','1992-2016-2','1992-2016-3','Ath_Cnt']\n",
    "\n",
    "col_names3 = ['Sex','Age','Height','Weight','NOC','Year','Season','Sport','Event','1896-1924-1','1896-1924-2','1896-1924-3','1928-1956-1','1928-1956-2','1928-1956-3','1960-1988-1','1960-1988-2','1960-1988-3','1992-2016-1','1992-2016-2','1992-2016-3']\n",
    "\n",
    "# One hot encoding the categorical variables\n",
    "#print (df)\n",
    "X = df[col_names2].values \n",
    "color_le = LabelEncoder() \n",
    "X[:, 0] = color_le.fit_transform(X[:, 0])\n",
    "X\n",
    "X[:, 6] = color_le.fit_transform(X[:, 6])\n",
    "X\n",
    "#print (X)\n",
    "ohe = OneHotEncoder(categorical_features=[0,6])\n",
    "ohe.fit_transform(X).toarray()\n",
    "#df = DataFrame(pd.get_dummies(df[col_names]))\n",
    "pd.get_dummies(df[col_names2])\n",
    "\n",
    "X = pd.get_dummies(df[col_names2]).as_matrix()\n",
    "\n",
    "y = pd.get_dummies(df['Medal']).as_matrix()\n",
    "#y = df['Medal'].values\n",
    "#print (y.shape)\n",
    "#print (y)\n",
    "#X = df[].values \n",
    "#print (df)\n",
    "#print (X.shape[1])\n",
    "#print (X.shape)\n",
    "#print (X)\n",
    "\n",
    "\n"
   ]
  },
  {
   "cell_type": "code",
   "execution_count": 14,
   "metadata": {
    "collapsed": true
   },
   "outputs": [],
   "source": [
    "#Converting data to PCA and then to scalar\n",
    "X_train, X_test, y_train, y_test = train_test_split(\n",
    "    X, y, test_size=0.10, random_state=50)\n",
    "\n",
    "pca = PCA(n_components=24)\n",
    "X_train_pca = pca.fit_transform(X_train)\n",
    "X_test_pca = pca.transform(X_test)\n",
    "X_pca = pca.transform(X)\n",
    "\n",
    "stdscaler = preprocessing.StandardScaler().fit(X_train_pca)\n",
    "X_train_scaled = stdscaler.transform(X_train_pca)\n",
    "X_test_scaled  = stdscaler.transform(X_test_pca)"
   ]
  },
  {
   "cell_type": "code",
   "execution_count": 15,
   "metadata": {},
   "outputs": [
    {
     "name": "stdout",
     "output_type": "stream",
     "text": [
      "_________________________________________________________________\n",
      "Layer (type)                 Output Shape              Param #   \n",
      "=================================================================\n",
      "dense_6 (Dense)              (None, 100)               2500      \n",
      "_________________________________________________________________\n",
      "dense_7 (Dense)              (None, 200)               20200     \n",
      "_________________________________________________________________\n",
      "dense_8 (Dense)              (None, 50)                10050     \n",
      "_________________________________________________________________\n",
      "dense_9 (Dense)              (None, 15)                765       \n",
      "_________________________________________________________________\n",
      "dense_10 (Dense)             (None, 4)                 64        \n",
      "=================================================================\n",
      "Total params: 33,579\n",
      "Trainable params: 33,579\n",
      "Non-trainable params: 0\n",
      "_________________________________________________________________\n"
     ]
    }
   ],
   "source": [
    "#Training feed forward neural networking model\n",
    "from keras.models import Sequential\n",
    "from keras.layers import Dense\n",
    "from keras.regularizers import l2, l1\n",
    "from keras.optimizers import SGD\n",
    "NN_model = Sequential()\n",
    "\n",
    "\n",
    "# The Input Layer :\n",
    "\n",
    "NN_model.add(Dense(100, input_dim = 24, activation='relu'))\n",
    "\n",
    "\n",
    "\n",
    "# The Hidden Layers :\n",
    "\n",
    "NN_model.add(Dense(200, activation='relu'))\n",
    "NN_model.add(Dense(50, activation='relu'))\n",
    "\n",
    "NN_model.add(Dense(15, activation='relu'))\n",
    "\n",
    "NN_model.add(Dense(4, activation='softmax'))\n",
    "\n",
    "\n",
    "\n",
    "# Compile the network :\n",
    "#sgd = SGD(lr=0.005)\n",
    "\n",
    "NN_model.compile(loss='categorical_crossentropy', optimizer='adam',metrics = ['accuracy'])\n",
    "\n",
    "NN_model.summary()"
   ]
  },
  {
   "cell_type": "code",
   "execution_count": 16,
   "metadata": {
    "collapsed": true
   },
   "outputs": [],
   "source": [
    "#Defining model fit parameters\n",
    "from keras.callbacks import ModelCheckpoint\n",
    "from keras.callbacks import EarlyStopping\n",
    "\n",
    "monitor = EarlyStopping(monitor='val_loss', min_delta=1e-3, patience=20, verbose=0, mode='auto')\n",
    "\n",
    "checkpointer = ModelCheckpoint(filepath='best_weights.hdf5',verbose=0, save_best_only=True)"
   ]
  },
  {
   "cell_type": "code",
   "execution_count": 17,
   "metadata": {
    "collapsed": true
   },
   "outputs": [],
   "source": [
    "#Fitting the model\n",
    "history = NN_model.fit(X_train_scaled, y_train, validation_data = (X_test_scaled,y_test), batch_size = 128, callbacks=[monitor, checkpointer], verbose=0, epochs=100)\n",
    "NN_model.load_weights('best_weights.hdf5')"
   ]
  },
  {
   "cell_type": "code",
   "execution_count": 18,
   "metadata": {},
   "outputs": [
    {
     "name": "stdout",
     "output_type": "stream",
     "text": [
      "Confusion_matrix\n",
      "[[  500    55   676    68]\n",
      " [   40   685   548    85]\n",
      " [  152   134 22706   174]\n",
      " [   50    55   560   580]]\n",
      "              precision    recall  f1-score   support\n",
      "\n",
      "      Bronze       0.67      0.38      0.49      1299\n",
      "        Gold       0.74      0.50      0.60      1358\n",
      "        None       0.93      0.98      0.95     23166\n",
      "      Silver       0.64      0.47      0.54      1245\n",
      "\n",
      "   micro avg       0.90      0.90      0.90     27068\n",
      "   macro avg       0.74      0.58      0.65     27068\n",
      "weighted avg       0.89      0.90      0.89     27068\n",
      "\n",
      "(27068, 24)\n",
      "(27068,)\n"
     ]
    }
   ],
   "source": [
    "#Plotting confusion matrix and classificaiton report\n",
    "from sklearn import svm, datasets\n",
    "from sklearn.metrics import confusion_matrix\n",
    "pred=NN_model.predict(X_test_scaled)\n",
    "pred = np.argmax(pred, axis=1)\n",
    "y_test2 = np.argmax(y_test, axis=1)\n",
    "\n",
    "#y_test2 = y_test2.replace({3: 'Gold', 2:'Silver', 1: 'Bronze', 0: 'None'})\n",
    "#print (y_test2)\n",
    "\n",
    "y_test2 = np.where(y_test2==0, 'None', y_test2)\n",
    "y_test2 = np.where(y_test2=='1', 'Bronze', y_test2)\n",
    "y_test2 = np.where(y_test2=='2', 'Silver', y_test2)\n",
    "y_test2 = np.where(y_test2=='3', 'Gold', y_test2)\n",
    "\n",
    "pred = np.where(pred==0, 'None', pred)\n",
    "pred = np.where(pred=='1', 'Bronze', pred)\n",
    "pred = np.where(pred=='2', 'Silver', pred)\n",
    "pred = np.where(pred=='3', 'Gold', pred)\n",
    "\n",
    "\n",
    "#y_test2 = lookup[y_test2]\n",
    "#pred = lookup[pred]\n",
    "\n",
    "cm = confusion_matrix(y_test2, pred)\n",
    "np.set_printoptions(precision=2)\n",
    "print ('Confusion_matrix')\n",
    "print (cm)\n",
    "\n",
    "\n",
    "#plt.figure()\n",
    "print (classification_report(y_test2,pred))\n",
    "#print (pred[:1000])\n",
    "print (X_test_scaled.shape)\n",
    "print (pred.shape)\n",
    "\n"
   ]
  },
  {
   "cell_type": "code",
   "execution_count": 19,
   "metadata": {},
   "outputs": [
    {
     "name": "stderr",
     "output_type": "stream",
     "text": [
      "C:\\Users\\Prashamsh\\Anaconda3\\lib\\site-packages\\matplotlib\\cbook\\__init__.py:424: MatplotlibDeprecationWarning: \n",
      "Passing one of 'on', 'true', 'off', 'false' as a boolean is deprecated; use an actual boolean (True/False) instead.\n",
      "  warn_deprecated(\"2.2\", \"Passing one of 'on', 'true', 'off', 'false' as a \"\n"
     ]
    },
    {
     "data": {
      "image/png": "[encoded data removed]",
      "text/plain": [
       "<Figure size 432x288 with 1 Axes>"
      ]
     },
     "metadata": {
      "needs_background": "light"
     },
     "output_type": "display_data"
    },
    {
     "name": "stdout",
     "output_type": "stream",
     "text": [
      "Loss after final iteration:  0.29495812329342963\n"
     ]
    }
   ],
   "source": [
    "#Calculating loss and plotting loss function\n",
    "%matplotlib inline\n",
    "import matplotlib.pyplot as plt\n",
    "plt.figure(1, figsize=(6,4))\n",
    "xc = range(200)\n",
    "# # summarize history for loss\n",
    "plt.plot(history.history['loss'])\n",
    "plt.plot(history.history['val_loss'])\n",
    "plt.title('Model Loss')\n",
    "plt.ylabel('categorical_crossentropy')\n",
    "plt.xlabel('Epoch')\n",
    "plt.grid('True')\n",
    "plt.legend(['Training Loss', 'Testing Loss'], loc='upper right')\n",
    "\n",
    "plt.show()\n",
    "print (\"Loss after final iteration: \", history.history['val_loss'][-1])"
   ]
  },
  {
   "cell_type": "markdown",
   "metadata": {},
   "source": []
  },
  {
   "cell_type": "code",
   "execution_count": 20,
   "metadata": {},
   "outputs": [
    {
     "name": "stdout",
     "output_type": "stream",
     "text": [
      "Accuracy after final iteration:  0.9042042263311316\n"
     ]
    },
    {
     "data": {
      "image/png": "[encoded data removed]",
      "text/plain": [
       "<Figure size 432x288 with 1 Axes>"
      ]
     },
     "metadata": {
      "needs_background": "light"
     },
     "output_type": "display_data"
    }
   ],
   "source": [
    "#Calculating accuracy and plotting it\n",
    "%matplotlib inline\n",
    "import matplotlib.pyplot as plt\n",
    "plt.figure(1, figsize=(6,4))\n",
    "xc = range(200)\n",
    "# # summarize history for loss\n",
    "plt.plot(history.history['acc'])\n",
    "plt.plot(history.history['val_acc'])\n",
    "plt.title('Model Accuracy')\n",
    "plt.ylabel('Accuracy')\n",
    "plt.xlabel('Epoch')\n",
    "plt.grid('True')\n",
    "plt.legend(['Training Accuracy', 'Testing Accuracy'], loc='upper left')\n",
    "print (\"Accuracy after final iteration: \", history.history['val_acc'][-1])\n",
    "plt.show()"
   ]
  },
  {
   "cell_type": "code",
   "execution_count": 21,
   "metadata": {},
   "outputs": [
    {
     "name": "stdout",
     "output_type": "stream",
     "text": [
      "(1, 32)\n",
      "[0]\n",
      "(1,)\n",
      "(1, 34)\n"
     ]
    }
   ],
   "source": [
    "#Testing on new data\n",
    "from sklearn import svm, datasets\n",
    "from sklearn.metrics import confusion_matrix\n",
    "\n",
    "col_names_test = ['Sex','Age','Height','Weight','NOC','Year','Season','Sport','Event','Gam_Med_Bro','Gam_Med_Sil','Gam_Med_Gol','Gam_Med_Non','1896-1924-0','1896-1924-1','1896-1924-2','1896-1924-3','1928-1956-0','1928-1956-1','1928-1956-2','1928-1956-3','1960-1988-0','1960-1988-1','1960-1988-2','1960-1988-3','1992-2016-0','1992-2016-1','1992-2016-2','1992-2016-3','Ath_Cnt','Sex_F','Sex_M','Season_Summer','Season_Winter']\n",
    "\n",
    "df1 = pd.read_csv('athletes_Medpred_test.csv', usecols = col_names_test)\n",
    "\n",
    "col_names_test4 = ['NOC','1896-1924-0','1896-1924-1','1896-1924-2','1896-1924-3','1928-1956-0','1928-1956-1','1928-1956-2','1928-1956-3','1960-1988-0','1960-1988-1','1960-1988-2','1960-1988-3','1992-2016-0','1992-2016-1','1992-2016-2','1992-2016-3']\n",
    "df2 = pd.read_csv('athletes_year_percent.csv', usecols = col_names_test4)\n",
    "\n",
    "col_names_test5 = ['NOC','Event','Gam_Med_Bro','Gam_Med_Sil','Gam_Med_Gol','Gam_Med_Non']\n",
    "\n",
    "df3 = pd.read_csv('athletes_country_event_med.csv', usecols = col_names_test5)\n",
    "\n",
    "col_names_test6 = ['NOC','Year','Ath_Cnt']\n",
    "\n",
    "df4 = pd.read_csv('athletes_cntyesno.csv', usecols = col_names_test6)\n",
    "\n",
    "\n",
    "for i in range(len(df1)):\n",
    "    for j in range(len(df2)):\n",
    "        if df2.iloc[j,0] == df1.iloc[i,4]:\n",
    "            df1.iloc[i,13] = df2.iloc[j,1]\n",
    "            df1.iloc[i,14] = df2.iloc[j,2]\n",
    "            df1.iloc[i,15] = df2.iloc[j,3]\n",
    "            df1.iloc[i,16] = df2.iloc[j,4]\n",
    "            df1.iloc[i,17] = df2.iloc[j,5]\n",
    "            df1.iloc[i,18] = df2.iloc[j,6]\n",
    "            df1.iloc[i,19] = df2.iloc[j,7]\n",
    "            df1.iloc[i,20] = df2.iloc[j,8]\n",
    "            df1.iloc[i,21] = df2.iloc[j,9]\n",
    "            df1.iloc[i,22] = df2.iloc[j,10]\n",
    "            df1.iloc[i,23] = df2.iloc[j,11]\n",
    "            df1.iloc[i,24] = df2.iloc[j,12]\n",
    "            df1.iloc[i,25] = df2.iloc[j,13]\n",
    "            df1.iloc[i,26] = df2.iloc[j,14]\n",
    "            df1.iloc[i,27] = df2.iloc[j,15]\n",
    "            df1.iloc[i,28] = df2.iloc[j,16]\n",
    "            j = len(df2)\n",
    "    for k in range(len(df3)):\n",
    "        if (df3.iloc[k,0] == df1.iloc[i,4] and df3.iloc[k,1] == df1.iloc[i,8]):\n",
    "            df1.iloc[i,9] = df3.iloc[k,2]\n",
    "            df1.iloc[i,10] = df3.iloc[k,3]\n",
    "            df1.iloc[i,11] = df3.iloc[k,4]\n",
    "            df1.iloc[i,12] = df3.iloc[k,5]\n",
    "            k = len(df3)\n",
    "    if df1.iloc[i,5] > 2016:\n",
    "        pass\n",
    "    else:\n",
    "        for l in range(len(df4)):            \n",
    "            if (df4.iloc[l,0] == df1.iloc[i,4] and df4.iloc[l,1] == df1.iloc[i,5]):\n",
    "                df1.iloc[i,29] = df4.iloc[l,2]\n",
    "                l = len(df4)\n",
    "\n",
    "#print (df1)\n",
    "\n",
    "for z in range(len(df1)):\n",
    "    df1.iloc[z,4] = NOC_Map[df1.iloc[z,4]]\n",
    "    df1.iloc[z,7] = Sport_Map[df1.iloc[z,7]]\n",
    "    df1.iloc[z,8] = Event_Map[df1.iloc[z,8]]\n",
    "    if df1.iloc[z,0] == 'M':\n",
    "        df1.iloc[z,30] = 0\n",
    "        df1.iloc[z,31] = 1\n",
    "    else:\n",
    "        df1.iloc[z,31] = 0\n",
    "        df1.iloc[z,30] = 1\n",
    "        \n",
    "    if df1.iloc[z,6] == 'Winter':\n",
    "        df1.iloc[z,32] = 0\n",
    "        df1.iloc[z,33] = 1\n",
    "    else:\n",
    "        df1.iloc[z,33] = 0\n",
    "        df1.iloc[z,32] = 1\n",
    "\n",
    "col_names_test1 = ['Age','Height','Weight','NOC','Year','Sport','Event','Gam_Med_Bro','Gam_Med_Sil','Gam_Med_Gol','Gam_Med_Non','1896-1924-0','1896-1924-1','1896-1924-2','1896-1924-3','1928-1956-0','1928-1956-1','1928-1956-2','1928-1956-3','1960-1988-0','1960-1988-1','1960-1988-2','1960-1988-3','1992-2016-0','1992-2016-1','1992-2016-2','1992-2016-3','Ath_Cnt','Sex_F','Sex_M','Season_Summer','Season_Winter']\n",
    "        \n",
    "#df2 = df1[col_names_test1].values\n",
    "#print (df2)\n",
    "#print (df1)\n",
    "\n",
    "\n",
    "\n",
    "X1 = df1[col_names_test1].values\n",
    "print (X1.shape)\n",
    "\n",
    "stdscaler = preprocessing.StandardScaler().fit(X_train_pca)\n",
    "#X1_train_scaled = stdscaler.transform(X1_train)\n",
    "\n",
    "X1 = pca.transform(X1)\n",
    "X1 = stdscaler.transform(X1)\n",
    "\n",
    "\n",
    "pred_test=NN_model.predict(X1)\n",
    "pred_test = np.argmax(pred_test, axis=1)\n",
    "\n",
    "#print (X1)\n",
    "#print (X1.shape)\n",
    "#print (pred_test.shape)\n",
    "print (pred_test)\n",
    "print (pred_test.shape)\n",
    "print (df1.shape)\n",
    "#print (df1)\n",
    "\n"
   ]
  },
  {
   "cell_type": "code",
   "execution_count": 23,
   "metadata": {},
   "outputs": [
    {
     "data": {
      "application/vnd.jupyter.widget-view+json": {
       "model_id": "f8085a994b4444068d50f69998f0e2be",
       "version_major": 2,
       "version_minor": 0
      },
      "text/plain": [
       "Text(value='', description='Sex M\\\\F')"
      ]
     },
     "metadata": {},
     "output_type": "display_data"
    },
    {
     "data": {
      "application/vnd.jupyter.widget-view+json": {
       "model_id": "7a3db33ff0204f07a92220b3020512e8",
       "version_major": 2,
       "version_minor": 0
      },
      "text/plain": [
       "Text(value='', description='Age in years')"
      ]
     },
     "metadata": {},
     "output_type": "display_data"
    },
    {
     "data": {
      "application/vnd.jupyter.widget-view+json": {
       "model_id": "000509f802e04e0da99b895ea921760b",
       "version_major": 2,
       "version_minor": 0
      },
      "text/plain": [
       "Text(value='', description='Height in cm')"
      ]
     },
     "metadata": {},
     "output_type": "display_data"
    },
    {
     "data": {
      "application/vnd.jupyter.widget-view+json": {
       "model_id": "381c41230dce42d2af95f7f84cda8c46",
       "version_major": 2,
       "version_minor": 0
      },
      "text/plain": [
       "Text(value='', description='Weight in Kgs')"
      ]
     },
     "metadata": {},
     "output_type": "display_data"
    },
    {
     "data": {
      "application/vnd.jupyter.widget-view+json": {
       "model_id": "13f9564a926d43bbb4c8d5a9183f5ea3",
       "version_major": 2,
       "version_minor": 0
      },
      "text/plain": [
       "Text(value='', description='Country Abbr')"
      ]
     },
     "metadata": {},
     "output_type": "display_data"
    },
    {
     "data": {
      "application/vnd.jupyter.widget-view+json": {
       "model_id": "2ec8ab8b2fa240d7a751aacdd7b3a62e",
       "version_major": 2,
       "version_minor": 0
      },
      "text/plain": [
       "Text(value='', description='Year')"
      ]
     },
     "metadata": {},
     "output_type": "display_data"
    },
    {
     "data": {
      "application/vnd.jupyter.widget-view+json": {
       "model_id": "3f970da7f9d64a52a9a178a67a62549a",
       "version_major": 2,
       "version_minor": 0
      },
      "text/plain": [
       "Text(value='', description='Season Summer\\\\Winter')"
      ]
     },
     "metadata": {},
     "output_type": "display_data"
    },
    {
     "data": {
      "application/vnd.jupyter.widget-view+json": {
       "model_id": "91556cf062ca4d059e38baf15b2f81f8",
       "version_major": 2,
       "version_minor": 0
      },
      "text/plain": [
       "Text(value='', description='Sport')"
      ]
     },
     "metadata": {},
     "output_type": "display_data"
    },
    {
     "data": {
      "application/vnd.jupyter.widget-view+json": {
       "model_id": "9d2fe5aa053449fdacedd47b156f46ba",
       "version_major": 2,
       "version_minor": 0
      },
      "text/plain": [
       "Text(value='', description='Event')"
      ]
     },
     "metadata": {},
     "output_type": "display_data"
    },
    {
     "data": {
      "application/vnd.jupyter.widget-view+json": {
       "model_id": "ecb3127d04664935b221150d72b9c3f9",
       "version_major": 2,
       "version_minor": 0
      },
      "text/plain": [
       "Text(value='', description='Athl_Count')"
      ]
     },
     "metadata": {},
     "output_type": "display_data"
    },
    {
     "data": {
      "application/vnd.jupyter.widget-view+json": {
       "model_id": "87cebb61b5c8496cbc3804ba23368385",
       "version_major": 2,
       "version_minor": 0
      },
      "text/plain": [
       "Button(description='Get Medal Prediction', style=ButtonStyle())"
      ]
     },
     "metadata": {},
     "output_type": "display_data"
    }
   ],
   "source": [
    "#Testing on new data using Jupyter notebook UI widgets\n",
    "import ipywidgets as widgets\n",
    "from IPython.display import display\n",
    "from sklearn import svm, datasets\n",
    "from sklearn.metrics import confusion_matrix\n",
    "from IPython.display import clear_output\n",
    "import sys\n",
    "import time\n",
    "\n",
    "col_names_test = ['Sex','Age','Height','Weight','NOC','Year','Season','Sport','Event','Gam_Med_Bro','Gam_Med_Sil','Gam_Med_Gol','Gam_Med_Non','1896-1924-0','1896-1924-1','1896-1924-2','1896-1924-3','1928-1956-0','1928-1956-1','1928-1956-2','1928-1956-3','1960-1988-0','1960-1988-1','1960-1988-2','1960-1988-3','1992-2016-0','1992-2016-1','1992-2016-2','1992-2016-3','Ath_Cnt','Sex_F','Sex_M','Season_Summer','Season_Winter']\n",
    "\n",
    "df1 = pd.read_csv('UIathletes_Medpred_test.csv', usecols = col_names_test)\n",
    "\n",
    "col_names_test4 = ['NOC','1896-1924-0','1896-1924-1','1896-1924-2','1896-1924-3','1928-1956-0','1928-1956-1','1928-1956-2','1928-1956-3','1960-1988-0','1960-1988-1','1960-1988-2','1960-1988-3','1992-2016-0','1992-2016-1','1992-2016-2','1992-2016-3']\n",
    "df2 = pd.read_csv('athletes_year_percent.csv', usecols = col_names_test4)\n",
    "\n",
    "col_names_test5 = ['NOC','Event','Gam_Med_Bro','Gam_Med_Sil','Gam_Med_Gol','Gam_Med_Non']\n",
    "\n",
    "df3 = pd.read_csv('athletes_country_event_med.csv', usecols = col_names_test5)\n",
    "\n",
    "col_names_test6 = ['NOC','Year','Ath_Cnt']\n",
    "\n",
    "df4 = pd.read_csv('athletes_cntyesno.csv', usecols = col_names_test6)\n",
    "\n",
    "\n",
    "\n",
    "\n",
    "'''def any_function_returning_value(word1,word2, word3):\n",
    "    #new_word = 'Combining words is easy: %s %s %s'%(word1,word2, word3)\n",
    "    print(new_word)\n",
    "    print (df2.iloc[54,3])\n",
    "    return new_word'''\n",
    "\n",
    "class learn_classes_and_widgets():\n",
    "    def __init__(self, param1='', param2='', param3='', param4='', param5='', param6='', param7='', param8='', param9='',param10=''):\n",
    "        self.p1_text = widgets.Text(description = 'Sex M\\F',value = param1)\n",
    "        self.p2_text = widgets.Text(description = 'Age in years',value = param2)\n",
    "        self.p3_text = widgets.Text(description = 'Height in cm',value = param3)\n",
    "        self.p4_text = widgets.Text(description = 'Weight in Kgs',value = param4)\n",
    "        self.p5_text = widgets.Text(description = 'Country Abbr',value = param5)\n",
    "        self.p6_text = widgets.Text(description = 'Year',value = param6)\n",
    "        self.p7_text = widgets.Text(description = 'Season Summer\\Winter',value = param7)\n",
    "        self.p8_text = widgets.Text(description = 'Sport',value = param8)\n",
    "        self.p9_text = widgets.Text(description = 'Event',value = param9)\n",
    "        self.p10_text = widgets.Text(description = 'Athl_Count',value = param10)\n",
    "        self.p_button = widgets.Button(description=\"Get Medal Prediction\", value= param1)\n",
    "        self.p_button.on_click(self.handle_submit)\n",
    "        display(self.p1_text, self.p2_text, self.p3_text, self.p4_text, self.p5_text, self.p6_text,self.p7_text, self.p8_text, self.p9_text,self.p10_text,self.p_button)\n",
    "        \n",
    "    def handle_submit(self, text):\n",
    "        #clear_output()\n",
    "        #handle_submit()\n",
    "        #sys.stdout.write(\"\\033[K\") #clear line\n",
    "        #sys.stdout.write(\"\\033[F\") #back to previous line\n",
    "        \n",
    "        count = 0\n",
    "        count1 = 0\n",
    "        count2 = 0\n",
    "        count3 = 0\n",
    "        count4 = 0\n",
    "        if (self.p1_text.value == '' or self.p2_text.value == '' or self.p3_text.value == '' or self.p4_text.value == '' or self.p5_text.value == '' or self.p6_text.value == '' or self.p7_text.value == '' or self.p8_text.value == ''):\n",
    "            print ('One or More inputs missing')\n",
    "            return 'Please input your values'\n",
    "        #print(\"Submitting\")\n",
    "        #age= int(self.p1_text_value);\n",
    "        #print(int(self.p1_text.value) + int(self.p2_text.value) + int(self.p3_text.value))\n",
    "        \n",
    "        df1.iloc[0,0] = str(self.p1_text.value)\n",
    "        df1.iloc[0,1] = int(self.p2_text.value)\n",
    "        df1.iloc[0,2] = int(self.p3_text.value)\n",
    "        df1.iloc[0,3] = int(self.p4_text.value)\n",
    "        df1.iloc[0,4] = str(self.p5_text.value)\n",
    "        df1.iloc[0,5] = int(self.p6_text.value)\n",
    "        df1.iloc[0,6] = str(self.p7_text.value)\n",
    "        df1.iloc[0,7] = str(self.p8_text.value)\n",
    "        df1.iloc[0,8] = str(self.p9_text.value)\n",
    "        \n",
    "\n",
    "        for j in range(len(df2)):\n",
    "            if df2.iloc[j,0] == df1.iloc[0,4]:\n",
    "                count = 1\n",
    "                df1.iloc[0,13] = df2.iloc[j,1]\n",
    "                df1.iloc[0,14] = df2.iloc[j,2]\n",
    "                df1.iloc[0,15] = df2.iloc[j,3]\n",
    "                df1.iloc[0,16] = df2.iloc[j,4]\n",
    "                df1.iloc[0,17] = df2.iloc[j,5]\n",
    "                df1.iloc[0,18] = df2.iloc[j,6]\n",
    "                df1.iloc[0,19] = df2.iloc[j,7]\n",
    "                df1.iloc[0,20] = df2.iloc[j,8]\n",
    "                df1.iloc[0,21] = df2.iloc[j,9]\n",
    "                df1.iloc[0,22] = df2.iloc[j,10]\n",
    "                df1.iloc[0,23] = df2.iloc[j,11]\n",
    "                df1.iloc[0,24] = df2.iloc[j,12]\n",
    "                df1.iloc[0,25] = df2.iloc[j,13]\n",
    "                df1.iloc[0,26] = df2.iloc[j,14]\n",
    "                df1.iloc[0,27] = df2.iloc[j,15]\n",
    "                df1.iloc[0,28] = df2.iloc[j,16]\n",
    "                j = len(df2)\n",
    "        for k in range(len(df3)):\n",
    "                if (df3.iloc[k,0] == df1.iloc[0,4] and df3.iloc[k,1] == df1.iloc[0,8]):\n",
    "                    df1.iloc[0,9] = df3.iloc[k,2]\n",
    "                    df1.iloc[0,10] = df3.iloc[k,3]\n",
    "                    df1.iloc[0,11] = df3.iloc[k,4]\n",
    "                    df1.iloc[0,12] = df3.iloc[k,5]\n",
    "                    k = len(df3)\n",
    "                    count1 = 1\n",
    "        if df1.iloc[0,5] > 2016:\n",
    "            count2 = 1\n",
    "            df1.iloc[0,29] = str(self.p10_text.value)\n",
    "        else:\n",
    "            for l in range(len(df4)):\n",
    "                    if (df4.iloc[l,0] == df1.iloc[0,4] and df4.iloc[l,1] == df1.iloc[0,5]):\n",
    "                        df1.iloc[0,29] = df4.iloc[l,2]\n",
    "                        l = len(df4)\n",
    "                        count2 = 1\n",
    "\n",
    "\n",
    "        #print (df1)\n",
    "        #print (NOC_Map[df1.iloc[0,4]])\n",
    "           \n",
    "        if count == 0:\n",
    "            print (\"Invalid Country Abbrevation\")\n",
    "            return 'Please input your values'\n",
    "        elif count1 == 0:\n",
    "            print (\"Invalid Event Name\")\n",
    "            return 'Please input your values'\n",
    "        elif count2 == 0:\n",
    "            print (\"Invalid Year\")\n",
    "            return 'Please input your values'\n",
    "\n",
    "\n",
    "        df1.iloc[0,4] = NOC_Map[df1.iloc[0,4]]\n",
    "        df1.iloc[0,7] = Sport_Map[df1.iloc[0,7]]\n",
    "        df1.iloc[0,8] = Event_Map[df1.iloc[0,8]]\n",
    "        if df1.iloc[0,0] == 'M':\n",
    "            df1.iloc[0,30] = 0\n",
    "            df1.iloc[0,31] = 1\n",
    "            count3 = 1\n",
    "        elif df1.iloc[0,0] == 'F':\n",
    "            df1.iloc[0,31] = 0\n",
    "            df1.iloc[0,30] = 1\n",
    "            count3 = 1\n",
    "       \n",
    "\n",
    "        if df1.iloc[0,6] == 'Winter':\n",
    "            df1.iloc[0,32] = 0\n",
    "            df1.iloc[0,33] = 1\n",
    "            count4 = 1\n",
    "        elif df1.iloc[0,6] == 'Summer':\n",
    "            df1.iloc[0,33] = 0\n",
    "            df1.iloc[0,32] = 1\n",
    "            count4 = 1\n",
    "        \n",
    "        if count3 == 0:\n",
    "            print (\"Invalid Gender\")\n",
    "            return 'Please input your values'\n",
    "        if count4 == 0:\n",
    "            print (\"Invalid Season\")\n",
    "            return 'Please input your values'\n",
    "       \n",
    "        col_names_test1 = ['Age','Height','Weight','NOC','Year','Sport','Event','Gam_Med_Bro','Gam_Med_Sil','Gam_Med_Gol','Gam_Med_Non','1896-1924-0','1896-1924-1','1896-1924-2','1896-1924-3','1928-1956-0','1928-1956-1','1928-1956-2','1928-1956-3','1960-1988-0','1960-1988-1','1960-1988-2','1960-1988-3','1992-2016-0','1992-2016-1','1992-2016-2','1992-2016-3','Ath_Cnt','Sex_F','Sex_M','Season_Summer','Season_Winter']\n",
    "        \n",
    "        #print (df1.iloc[0,4])\n",
    "        #print (df1['NOC'])\n",
    "        X1 = df1[col_names_test1].values\n",
    "        #print (X1.shape)\n",
    "        #print (X1)\n",
    "\n",
    "        stdscaler = preprocessing.StandardScaler().fit(X_train_pca)\n",
    "        #X1_train_scaled = stdscaler.transform(X1_train)\n",
    "\n",
    "        X1 = pca.transform(X1)\n",
    "        X1 = stdscaler.transform(X1)\n",
    "\n",
    "\n",
    "        pred_test=NN_model.predict(X1)\n",
    "        pred_test = np.argmax(pred_test, axis=1)\n",
    "\n",
    "        #print (X1)\n",
    "        #print (X1.shape)\n",
    "        #print (pred_test.shape)\n",
    "\n",
    "        if pred_test == 0:\n",
    "                print ('The Athelete is predicted to win No Medal')\n",
    "        if pred_test == 3:\n",
    "                print ('The Athelete is predicted to win Gold')\n",
    "        if pred_test == 2:\n",
    "                print ('The Athelete is predicted to win Silver')\n",
    "        if pred_test == 1:\n",
    "                print ('The Athelete is predicted to win Bronze')\n",
    "            #print (pred_test)\n",
    "        \n",
    "        #self.w = any_function_returning_value(self.p1_text.value,self.p2_text.value, self.p3_text.value)\n",
    "        #return self.w\n",
    "\n",
    "f = learn_classes_and_widgets(param1 = '')\n",
    "\n",
    "\n"
   ]
  }
 ],
 "metadata": {
  "kernelspec": {
   "display_name": "Python 3",
   "language": "python",
   "name": "python3"
  },
  "language_info": {
   "codemirror_mode": {
    "name": "ipython",
    "version": 3
   },
   "file_extension": ".py",
   "mimetype": "text/x-python",
   "name": "python",
   "nbconvert_exporter": "python",
   "pygments_lexer": "ipython3",
   "version": "3.7.1"
  }
 },
 "nbformat": 4,
 "nbformat_minor": 2
}
