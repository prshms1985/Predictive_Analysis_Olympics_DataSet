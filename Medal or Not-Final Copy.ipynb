{
 "cells": [
  {
   "cell_type": "code",
   "execution_count": 1,
   "metadata": {},
   "outputs": [],
   "source": [
    "%matplotlib inline\n",
    "import matplotlib.pyplot as plt\n",
    "import pandas as pd\n",
    "from pandas import DataFrame\n",
    "import numpy as np\n",
    "from sklearn.model_selection import train_test_split\n",
    "#from sklearn.model_selection import cross_validate\n",
    "#from sklearn import cross_validation\n",
    "from sklearn import preprocessing\n",
    "from sklearn.preprocessing import LabelEncoder\n",
    "from sklearn.preprocessing import OneHotEncoder\n",
    "from sklearn.decomposition import PCA\n",
    "from mpl_toolkits.mplot3d import axes3d\n",
    "from sklearn.metrics import classification_report, accuracy_score, confusion_matrix\n",
    "from sklearn.svm import SVC, LinearSVC\n",
    "from matplotlib.collections import LineCollection\n",
    "from mpl_toolkits.mplot3d.art3d import Line3DCollection\n",
    "\n",
    "# processing the data\n",
    "\n",
    "col_names = ['ID','Name','Sex','Age','Height','Weight','Team','NOC', 'Games','Year','Season','City','Sport','Event','Medal','Game_Med_Per','1896-1924-1','1896-1924-0','1928-1956-1','1928-1956-0','1960-1988-1','1960-1988-0','1992-2016-1','1992-2016-0','Ath_Cnt']\n",
    "\n",
    "df = pd.read_csv('athletes_medal_yes_no.csv', usecols=col_names)\n",
    "\n",
    "df['Medal'].fillna(0, inplace=True)\n",
    "df = df.replace({'Medal': {'Gold': 1, 'Silver': 1, 'Bronze': 1}})\n",
    "df = df.dropna(axis=0)\n",
    "\n",
    "# Storing the numeric values in python dictionary to be referenced later for testing with new data\n",
    "\n",
    "NOC_Map = {}\n",
    "\n",
    "for i, j in enumerate(np.unique(df['NOC'])):\n",
    "    NOC_Map[j] = i\n",
    "\n",
    "    Sport_Map = {}\n",
    "\n",
    "for i, j in enumerate(np.unique(df['Sport'])):\n",
    "    Sport_Map[j] = i\n",
    "\n",
    "    Event_Map = {}\n",
    "\n",
    "for i, j in enumerate(np.unique(df['Event'])):\n",
    "    Event_Map[j] = i\n",
    "\n",
    "#print (df.shape)\n",
    "#print (df)"
   ]
  },
  {
   "cell_type": "code",
   "execution_count": 2,
   "metadata": {},
   "outputs": [
    {
     "name": "stderr",
     "output_type": "stream",
     "text": [
      "C:\\Users\\Prashamsh\\Anaconda3\\lib\\site-packages\\sklearn\\preprocessing\\_encoders.py:368: FutureWarning: The handling of integer data will change in version 0.22. Currently, the categories are determined based on the range [0, max(values)], while in the future they will be determined based on the unique values.\n",
      "If you want the future behaviour and silence this warning, you can specify \"categories='auto'\".\n",
      "In case you used a LabelEncoder before this OneHotEncoder to convert the categories to integers, then you can now use the OneHotEncoder directly.\n",
      "  warnings.warn(msg, FutureWarning)\n",
      "C:\\Users\\Prashamsh\\Anaconda3\\lib\\site-packages\\sklearn\\preprocessing\\_encoders.py:390: DeprecationWarning: The 'categorical_features' keyword is deprecated in version 0.20 and will be removed in 0.22. You can use the ColumnTransformer instead.\n",
      "  \"use the ColumnTransformer instead.\", DeprecationWarning)\n"
     ]
    },
    {
     "name": "stdout",
     "output_type": "stream",
     "text": [
      "(270673, 2)\n",
      "[[1 0]\n",
      " [1 0]\n",
      " [1 0]\n",
      " ...\n",
      " [1 0]\n",
      " [1 0]\n",
      " [1 0]]\n",
      "21\n",
      "(270673, 21)\n",
      "[[ 24.         180.          80.         ...   1.           1.\n",
      "    0.        ]\n",
      " [ 23.         170.          60.         ...   1.           1.\n",
      "    0.        ]\n",
      " [ 24.         179.2009967   73.83750728 ...   1.           1.\n",
      "    0.        ]\n",
      " ...\n",
      " [ 27.         176.          59.         ...   1.           0.\n",
      "    1.        ]\n",
      " [ 30.         185.          96.         ...   1.           0.\n",
      "    1.        ]\n",
      " [ 34.         185.          96.         ...   1.           0.\n",
      "    1.        ]]\n"
     ]
    },
    {
     "name": "stderr",
     "output_type": "stream",
     "text": [
      "C:\\Users\\Prashamsh\\Anaconda3\\lib\\site-packages\\ipykernel_launcher.py:69: FutureWarning: Method .as_matrix will be removed in a future version. Use .values instead.\n",
      "C:\\Users\\Prashamsh\\Anaconda3\\lib\\site-packages\\ipykernel_launcher.py:71: FutureWarning: Method .as_matrix will be removed in a future version. Use .values instead.\n"
     ]
    }
   ],
   "source": [
    "# Numeric Enumeration\n",
    "class_mapping = {label: idx for idx, label in enumerate(np.unique(df['NOC']))}\n",
    "class_mapping\n",
    "df['NOC'] = df['NOC'].map(class_mapping)\n",
    "df\n",
    "\n",
    "class_mapping = {label: idx for idx, label in enumerate(np.unique(df['City']))}\n",
    "class_mapping\n",
    "df['City'] = df['City'].map(class_mapping)\n",
    "df\n",
    "\n",
    "class_mapping = {label: idx for idx, label in enumerate(np.unique(df['Name']))}\n",
    "class_mapping\n",
    "df['Name'] = df['Name'].map(class_mapping)\n",
    "df\n",
    "\n",
    "class_mapping = {label: idx for idx, label in enumerate(np.unique(df['Team']))}\n",
    "class_mapping\n",
    "df['Team'] = df['Team'].map(class_mapping)\n",
    "df\n",
    "\n",
    "class_mapping = {label: idx for idx, label in enumerate(np.unique(df['Games']))}\n",
    "class_mapping\n",
    "df['Games'] = df['Games'].map(class_mapping)\n",
    "df\n",
    "\n",
    "'''class_mapping = {label: idx for idx, label in enumerate(np.unique(df['Season']))}\n",
    "class_mapping\n",
    "df['Season'] = df['Season'].map(class_mapping)\n",
    "df'''\n",
    "\n",
    "'''class_mapping = {label: idx for idx, label in enumerate(np.unique(df['Sex']))}\n",
    "class_mapping\n",
    "df['Sex'] = df['Sex'].map(class_mapping)\n",
    "df'''\n",
    "\n",
    "class_mapping = {label: idx for idx, label in enumerate(np.unique(df['Sport']))}\n",
    "class_mapping\n",
    "df['Sport'] = df['Sport'].map(class_mapping)\n",
    "df\n",
    "\n",
    "class_mapping = {label: idx for idx, label in enumerate(np.unique(df['Event']))}\n",
    "class_mapping\n",
    "df['Event'] = df['Event'].map(class_mapping)\n",
    "df\n",
    "\n",
    "\n",
    "\n",
    "col_names = ['Name','Sex','Age','Height','Weight','Team','NOC', 'Games','Year','Season','City','Sport','Event','1896-1924-0','1896-1924-1','1896-1924-2','1896-1924-3','1928-1956-0','1928-1956-1','1928-1956-2','1928-1956-3','1960-1988-0','1960-1988-1','1960-1988-2','1960-1988-3','1992-2016-0','1992-2016-1','1992-2016-2','1992-2016-3']\n",
    "col_names1 = ['Sex','Age','Height','Weight','NOC','Year','Season','Sport','Event','Game_Med_Per','1896-1924-Med','1928-1956-Med','1960-1988-Med','1992-2016-Med','1896-1924-0','1896-1924-1','1896-1924-2','1896-1924-3','1928-1956-0','1928-1956-1','1928-1956-2','1928-1956-3','1960-1988-0','1960-1988-1','1960-1988-2','1960-1988-3','1992-2016-0','1992-2016-1','1992-2016-2','1992-2016-3']\n",
    "\n",
    "col_names2 = ['Sex','Age','Height','Weight','NOC','Year','Season','Sport']\n",
    "\n",
    "col_names3 = ['Sex','Age','Height','Weight','NOC','Year','Season','Sport','Event','Game_Med_Per','1896-1924-1','1896-1924-0','1928-1956-1','1928-1956-0','1960-1988-1','1960-1988-0','1992-2016-1','1992-2016-0','Ath_Cnt']\n",
    "\n",
    "# one hot encoding\n",
    "X = df[col_names3].values \n",
    "color_le = LabelEncoder() \n",
    "X[:, 0] = color_le.fit_transform(X[:, 0])\n",
    "X\n",
    "X[:, 6] = color_le.fit_transform(X[:, 6])\n",
    "X\n",
    "#print (X)\n",
    "ohe = OneHotEncoder(categorical_features=[0,6])\n",
    "ohe.fit_transform(X).toarray()\n",
    "#df = DataFrame(pd.get_dummies(df[col_names]))\n",
    "pd.get_dummies(df[col_names3])\n",
    "\n",
    "X = pd.get_dummies(df[col_names3]).as_matrix()\n",
    "\n",
    "y = pd.get_dummies(df['Medal']).as_matrix()\n",
    "#y = df['Medal'].values\n",
    "print (y.shape)\n",
    "print (y)\n",
    "#X = df[].values \n",
    "#print (df)\n",
    "print (X.shape[1])\n",
    "print (X.shape)\n",
    "print (X)\n",
    "\n"
   ]
  },
  {
   "cell_type": "code",
   "execution_count": 3,
   "metadata": {},
   "outputs": [],
   "source": [
    "#splitting data into training and testing sets. Converting data into a scalar\n",
    "X_train, X_test, y_train, y_test = train_test_split(\n",
    "    X, y, test_size=0.10, random_state=50)\n",
    "\n",
    "#pca = PCA(n_components=13)\n",
    "#X_train_pca = pca.fit_transform(X_train)\n",
    "#X_test_pca = pca.transform(X_test)\n",
    "#X_pca = pca.transform(X)\n",
    "\n",
    "stdscaler = preprocessing.StandardScaler().fit(X_train)\n",
    "X_train_scaled = stdscaler.transform(X_train)\n",
    "X_test_scaled  = stdscaler.transform(X_test)"
   ]
  },
  {
   "cell_type": "code",
   "execution_count": 4,
   "metadata": {},
   "outputs": [
    {
     "name": "stderr",
     "output_type": "stream",
     "text": [
      "Using TensorFlow backend.\n"
     ]
    },
    {
     "name": "stdout",
     "output_type": "stream",
     "text": [
      "WARNING:tensorflow:From C:\\Users\\Prashamsh\\Anaconda3\\lib\\site-packages\\tensorflow\\python\\framework\\op_def_library.py:263: colocate_with (from tensorflow.python.framework.ops) is deprecated and will be removed in a future version.\n",
      "Instructions for updating:\n",
      "Colocations handled automatically by placer.\n",
      "_________________________________________________________________\n",
      "Layer (type)                 Output Shape              Param #   \n",
      "=================================================================\n",
      "dense_1 (Dense)              (None, 100)               2200      \n",
      "_________________________________________________________________\n",
      "dense_2 (Dense)              (None, 200)               20200     \n",
      "_________________________________________________________________\n",
      "dense_3 (Dense)              (None, 50)                10050     \n",
      "_________________________________________________________________\n",
      "dense_4 (Dense)              (None, 15)                765       \n",
      "_________________________________________________________________\n",
      "dense_5 (Dense)              (None, 2)                 32        \n",
      "=================================================================\n",
      "Total params: 33,247\n",
      "Trainable params: 33,247\n",
      "Non-trainable params: 0\n",
      "_________________________________________________________________\n"
     ]
    }
   ],
   "source": [
    "# Training the model using feed forward neural networks\n",
    "\n",
    "from keras.models import Sequential\n",
    "from keras.layers import Dense\n",
    "from keras.regularizers import l2, l1\n",
    "from keras.optimizers import SGD\n",
    "NN_model = Sequential()\n",
    "\n",
    "\n",
    "# The Input Layer :\n",
    "\n",
    "NN_model.add(Dense(100, input_dim = 21, activation='relu'))\n",
    "\n",
    "\n",
    "\n",
    "# The Hidden Layers :\n",
    "\n",
    "NN_model.add(Dense(200, activation='relu'))\n",
    "NN_model.add(Dense(50, activation='relu'))\n",
    "\n",
    "NN_model.add(Dense(15, activation='relu'))\n",
    "\n",
    "NN_model.add(Dense(2, activation='sigmoid'))\n",
    "\n",
    "\n",
    "\n",
    "# Compile the network :\n",
    "sgd = SGD(lr=0.005)\n",
    "\n",
    "NN_model.compile(loss='binary_crossentropy', optimizer='adam',metrics = ['accuracy'])\n",
    "\n",
    "NN_model.summary()"
   ]
  },
  {
   "cell_type": "code",
   "execution_count": 5,
   "metadata": {},
   "outputs": [],
   "source": [
    "# Defining parameters to fit the model\n",
    "from keras.callbacks import ModelCheckpoint\n",
    "from keras.callbacks import EarlyStopping\n",
    "\n",
    "monitor = EarlyStopping(monitor='val_loss', min_delta=1e-3, patience=20, verbose=0, mode='auto')\n",
    "\n",
    "checkpointer = ModelCheckpoint(filepath='best_weights.hdf5',verbose=0, save_best_only=True)"
   ]
  },
  {
   "cell_type": "code",
   "execution_count": 6,
   "metadata": {},
   "outputs": [
    {
     "name": "stdout",
     "output_type": "stream",
     "text": [
      "WARNING:tensorflow:From C:\\Users\\Prashamsh\\Anaconda3\\lib\\site-packages\\tensorflow\\python\\ops\\math_ops.py:3066: to_int32 (from tensorflow.python.ops.math_ops) is deprecated and will be removed in a future version.\n",
      "Instructions for updating:\n",
      "Use tf.cast instead.\n"
     ]
    }
   ],
   "source": [
    "# Fitting the model\n",
    "history = NN_model.fit(X_train_scaled, y_train, validation_data = (X_test_scaled,y_test), batch_size = 128, callbacks=[monitor, checkpointer], verbose=0, epochs=100)\n",
    "NN_model.load_weights('best_weights.hdf5')"
   ]
  },
  {
   "cell_type": "code",
   "execution_count": 7,
   "metadata": {},
   "outputs": [
    {
     "name": "stdout",
     "output_type": "stream",
     "text": [
      "Confusion_matrix\n",
      "[[ 2225  1677]\n",
      " [  686 22480]]\n",
      "              precision    recall  f1-score   support\n",
      "\n",
      "       Medal       0.76      0.57      0.65      3902\n",
      "        None       0.93      0.97      0.95     23166\n",
      "\n",
      "   micro avg       0.91      0.91      0.91     27068\n",
      "   macro avg       0.85      0.77      0.80     27068\n",
      "weighted avg       0.91      0.91      0.91     27068\n",
      "\n"
     ]
    }
   ],
   "source": [
    "#Plotting confision matrix and classification report\n",
    "from sklearn import svm, datasets\n",
    "from sklearn.metrics import confusion_matrix\n",
    "pred=NN_model.predict(X_test_scaled)\n",
    "pred = np.argmax(pred, axis=1)\n",
    "y_test2 = np.argmax(y_test, axis=1)\n",
    "\n",
    "y_test2 = np.where(y_test2==0, 'None', y_test2)\n",
    "y_test2 = np.where(y_test2=='1', 'Medal', y_test2)\n",
    "\n",
    "pred = np.where(pred==0, 'None', pred)\n",
    "pred = np.where(pred=='1', 'Medal', pred)\n",
    "\n",
    "cm = confusion_matrix(y_test2, pred)\n",
    "np.set_printoptions(precision=2)\n",
    "print ('Confusion_matrix')\n",
    "print (cm)\n",
    "\n",
    "\n",
    "#plt.figure()\n",
    "print (classification_report(y_test2,pred))\n",
    "#print (pred[:1000])\n",
    "\n"
   ]
  },
  {
   "cell_type": "code",
   "execution_count": 8,
   "metadata": {},
   "outputs": [
    {
     "name": "stderr",
     "output_type": "stream",
     "text": [
      "C:\\Users\\Prashamsh\\Anaconda3\\lib\\site-packages\\matplotlib\\cbook\\__init__.py:424: MatplotlibDeprecationWarning: \n",
      "Passing one of 'on', 'true', 'off', 'false' as a boolean is deprecated; use an actual boolean (True/False) instead.\n",
      "  warn_deprecated(\"2.2\", \"Passing one of 'on', 'true', 'off', 'false' as a \"\n"
     ]
    },
    {
     "data": {
      "image/png": "[encoded data removed]",
      "text/plain": [
       "<Figure size 432x288 with 1 Axes>"
      ]
     },
     "metadata": {
      "needs_background": "light"
     },
     "output_type": "display_data"
    },
    {
     "name": "stdout",
     "output_type": "stream",
     "text": [
      "Loss after final iteration:  0.21109052489960195\n"
     ]
    }
   ],
   "source": [
    "# Plotting and claculating loss\n",
    "%matplotlib inline\n",
    "import matplotlib.pyplot as plt\n",
    "plt.figure(1, figsize=(6,4))\n",
    "xc = range(200)\n",
    "# # summarize history for loss\n",
    "plt.plot(history.history['loss'])\n",
    "plt.plot(history.history['val_loss'])\n",
    "plt.title('Model Loss')\n",
    "plt.ylabel('binary_crossentropy')\n",
    "plt.xlabel('Epoch')\n",
    "plt.grid('True')\n",
    "plt.legend(['Training Loss', 'Testing Loss'], loc='upper right')\n",
    "\n",
    "plt.show()\n",
    "print (\"Loss after final iteration: \", history.history['val_loss'][-1])"
   ]
  },
  {
   "cell_type": "markdown",
   "metadata": {},
   "source": []
  },
  {
   "cell_type": "code",
   "execution_count": 9,
   "metadata": {},
   "outputs": [
    {
     "name": "stdout",
     "output_type": "stream",
     "text": [
      "Accuracy after final iteration:  0.9141606324195016\n"
     ]
    },
    {
     "data": {
      "image/png": "[encoded data removed]",
      "text/plain": [
       "<Figure size 432x288 with 1 Axes>"
      ]
     },
     "metadata": {
      "needs_background": "light"
     },
     "output_type": "display_data"
    }
   ],
   "source": [
    "#Plotting accuracy and calculating accuracy\n",
    "%matplotlib inline\n",
    "import matplotlib.pyplot as plt\n",
    "plt.figure(1, figsize=(6,4))\n",
    "xc = range(200)\n",
    "# # summarize history for loss\n",
    "plt.plot(history.history['acc'])\n",
    "plt.plot(history.history['val_acc'])\n",
    "plt.title('Model Accuracy')\n",
    "plt.ylabel('Accuracy')\n",
    "plt.xlabel('Epoch')\n",
    "plt.grid('True')\n",
    "plt.legend(['Training Accuracy', 'Testing Accuracy'], loc='upper left')\n",
    "print (\"Accuracy after final iteration: \", history.history['val_acc'][-1])\n",
    "plt.show()"
   ]
  },
  {
   "cell_type": "code",
   "execution_count": 10,
   "metadata": {},
   "outputs": [
    {
     "name": "stdout",
     "output_type": "stream",
     "text": [
      "(74, 21)\n",
      "[0 0 0 1 1 1 1 1 1 1 1 1 1 1 0 0 1 1 1 1 1 1 1 0 1 1 0 0 1 0 0 1 1 1 1 1 1\n",
      " 0 0 0 1 1 1 0 0 1 1 0 0 1 0 0 1 0 1 1 1 1 1 1 1 1 1 1 0 1 1 1 1 1 0 1 0 0]\n",
      "(74,)\n",
      "(74, 23)\n"
     ]
    }
   ],
   "source": [
    "# Prediction on new data\n",
    "from sklearn import svm, datasets\n",
    "from sklearn.metrics import confusion_matrix\n",
    "\n",
    "\n",
    "col_names_test = ['Sex','Age','Height','Weight','NOC','Year','Season','Sport','Event','Game_Med_Per','1896-1924-1','1896-1924-0','1928-1956-1','1928-1956-0','1960-1988-1','1960-1988-0','1992-2016-1','1992-2016-0','Ath_Cnt','Sex_F','Sex_M','Season_Summer','Season_Winter']\n",
    "\n",
    "df1 = pd.read_csv('athletes_Medyesno_test.csv', usecols = col_names_test)\n",
    "\n",
    "col_names_test4 = ['NOC','1896-1924-1','1896-1924-0','1928-1956-1','1928-1956-0','1960-1988-1','1960-1988-0','1992-2016-1','1992-2016-0']\n",
    "df2 = pd.read_csv('athletes_year_percentmedpred.csv', usecols = col_names_test4)\n",
    "\n",
    "col_names_test5 = ['NOC','Event','Game_Med_Per']\n",
    "\n",
    "df3 = pd.read_csv('athletes_country_event_medyesno.csv', usecols = col_names_test5)\n",
    "\n",
    "col_names_test6 = ['NOC','Year','Ath_Cnt']\n",
    "\n",
    "df4 = pd.read_csv('athletes_cntyesno.csv', usecols = col_names_test6)\n",
    "\n",
    "#print (df1)\n",
    "\n",
    "for i in range(len(df1)):\n",
    "    for j in range(len(df2)):\n",
    "        if df2.iloc[j,0] == df1.iloc[i,4]:\n",
    "            df1.iloc[i,10] = df2.iloc[j,1]\n",
    "            df1.iloc[i,11] = df2.iloc[j,2]\n",
    "            df1.iloc[i,12] = df2.iloc[j,3]\n",
    "            df1.iloc[i,13] = df2.iloc[j,4]\n",
    "            df1.iloc[i,14] = df2.iloc[j,5]\n",
    "            df1.iloc[i,15] = df2.iloc[j,6]\n",
    "            df1.iloc[i,16] = df2.iloc[j,7]\n",
    "            df1.iloc[i,17] = df2.iloc[j,8]\n",
    "            j = len(df2)\n",
    "    for k in range(len(df3)):\n",
    "        if (df3.iloc[k,0] == df1.iloc[i,4] and df3.iloc[k,1] == df1.iloc[i,8]):\n",
    "            df1.iloc[i,9] = df3.iloc[k,2]\n",
    "            k = len(df3)\n",
    "    \n",
    "    if df1.iloc[i,5] > 2016:\n",
    "        pass\n",
    "    else:\n",
    "        for l in range(len(df4)):\n",
    "            if (df4.iloc[l,0] == df1.iloc[i,4] and df4.iloc[l,1] == df1.iloc[i,5]):\n",
    "                df1.iloc[i,18] = df4.iloc[l,2]\n",
    "                l = len(df4)\n",
    "\n",
    "            \n",
    "#print (df1)\n",
    "\n",
    "for i in range(len(df1)):\n",
    "    df1.iloc[i,4] = NOC_Map[df1.iloc[i,4]]\n",
    "    df1.iloc[i,7] = Sport_Map[df1.iloc[i,7]]\n",
    "    df1.iloc[i,8] = Event_Map[df1.iloc[i,8]]\n",
    "    if df1.iloc[i,0] == 'M':\n",
    "        df1.iloc[i,19] = 0\n",
    "        df1.iloc[i,20] = 1\n",
    "    else:\n",
    "        df1.iloc[i,20] = 0\n",
    "        df1.iloc[i,19] = 1\n",
    "        \n",
    "    if df1.iloc[i,6] == 'Winter':\n",
    "        df1.iloc[i,21] = 0\n",
    "        df1.iloc[i,22] = 1\n",
    "    else:\n",
    "        df1.iloc[i,22] = 0\n",
    "        df1.iloc[i,21] = 1\n",
    "\n",
    "col_names_test1 = ['Age','Height','Weight','NOC','Year','Sport','Event','Game_Med_Per','1896-1924-1','1896-1924-0','1928-1956-1','1928-1956-0','1960-1988-1','1960-1988-0','1992-2016-1','1992-2016-0','Ath_Cnt','Sex_F','Sex_M','Season_Summer','Season_Winter']\n",
    "        \n",
    "#df2 = df1[col_names_test1].values\n",
    "#print (df2)\n",
    "#print (df1)\n",
    "\n",
    "\n",
    "\n",
    "X1 = df1[col_names_test1].values\n",
    "print (X1.shape)\n",
    "\n",
    "#stdscaler = preprocessing.StandardScaler().fit(X_train_pca)\n",
    "#X1_train_scaled = stdscaler.transform(X1_train)\n",
    "\n",
    "#X1 = pca.transform(X1)\n",
    "X1 = stdscaler.transform(X1)\n",
    "\n",
    "\n",
    "pred_test=NN_model.predict(X1)\n",
    "pred_test = np.argmax(pred_test, axis=1)\n",
    "\n",
    "#print (X1)\n",
    "#print (X1.shape)\n",
    "#print (pred_test.shape)\n",
    "print (pred_test)\n",
    "print (pred_test.shape)\n",
    "print (df1.shape)\n",
    "#print (df1)\n",
    "#print (df1)"
   ]
  },
  {
   "cell_type": "code",
   "execution_count": 12,
   "metadata": {},
   "outputs": [
    {
     "data": {
      "application/vnd.jupyter.widget-view+json": {
       "model_id": "5778e389880c47f28a908798c6219e49",
       "version_major": 2,
       "version_minor": 0
      },
      "text/plain": [
       "Text(value='', description='Sex M\\\\F')"
      ]
     },
     "metadata": {},
     "output_type": "display_data"
    },
    {
     "data": {
      "application/vnd.jupyter.widget-view+json": {
       "model_id": "9ae4670515294020b0c592ac625aebf2",
       "version_major": 2,
       "version_minor": 0
      },
      "text/plain": [
       "Text(value='', description='Age in years')"
      ]
     },
     "metadata": {},
     "output_type": "display_data"
    },
    {
     "data": {
      "application/vnd.jupyter.widget-view+json": {
       "model_id": "bb93475efaeb457880e2275d7f7d5649",
       "version_major": 2,
       "version_minor": 0
      },
      "text/plain": [
       "Text(value='', description='Height in cm')"
      ]
     },
     "metadata": {},
     "output_type": "display_data"
    },
    {
     "data": {
      "application/vnd.jupyter.widget-view+json": {
       "model_id": "f944a8e0155d408d9fb75011d57ffdd9",
       "version_major": 2,
       "version_minor": 0
      },
      "text/plain": [
       "Text(value='', description='Weight in Kgs')"
      ]
     },
     "metadata": {},
     "output_type": "display_data"
    },
    {
     "data": {
      "application/vnd.jupyter.widget-view+json": {
       "model_id": "442fa477304f4108976b8696673855a4",
       "version_major": 2,
       "version_minor": 0
      },
      "text/plain": [
       "Text(value='', description='Country Abbr')"
      ]
     },
     "metadata": {},
     "output_type": "display_data"
    },
    {
     "data": {
      "application/vnd.jupyter.widget-view+json": {
       "model_id": "7ac818ae6d2745a9bef800ba91e7ff95",
       "version_major": 2,
       "version_minor": 0
      },
      "text/plain": [
       "Text(value='', description='Year')"
      ]
     },
     "metadata": {},
     "output_type": "display_data"
    },
    {
     "data": {
      "application/vnd.jupyter.widget-view+json": {
       "model_id": "5170361c2a074635bb0c0d990c136731",
       "version_major": 2,
       "version_minor": 0
      },
      "text/plain": [
       "Text(value='', description='Season Summer\\\\Winter')"
      ]
     },
     "metadata": {},
     "output_type": "display_data"
    },
    {
     "data": {
      "application/vnd.jupyter.widget-view+json": {
       "model_id": "16eabed373d647338ca536bf26e43962",
       "version_major": 2,
       "version_minor": 0
      },
      "text/plain": [
       "Text(value='', description='Sport')"
      ]
     },
     "metadata": {},
     "output_type": "display_data"
    },
    {
     "data": {
      "application/vnd.jupyter.widget-view+json": {
       "model_id": "5fbd1cdc79434f51a99b18ea9f49b2f8",
       "version_major": 2,
       "version_minor": 0
      },
      "text/plain": [
       "Text(value='', description='Event')"
      ]
     },
     "metadata": {},
     "output_type": "display_data"
    },
    {
     "data": {
      "application/vnd.jupyter.widget-view+json": {
       "model_id": "268a116c79a94c4dacf5a1eba21ac370",
       "version_major": 2,
       "version_minor": 0
      },
      "text/plain": [
       "Text(value='', description='Ath_Count')"
      ]
     },
     "metadata": {},
     "output_type": "display_data"
    },
    {
     "data": {
      "application/vnd.jupyter.widget-view+json": {
       "model_id": "abbb7294516348b682c18c1f3329ba47",
       "version_major": 2,
       "version_minor": 0
      },
      "text/plain": [
       "Button(description='Get Medal Pred', style=ButtonStyle())"
      ]
     },
     "metadata": {},
     "output_type": "display_data"
    }
   ],
   "source": [
    "# Prediction on new data using widgets\n",
    "import ipywidgets as widgets\n",
    "from IPython.display import display\n",
    "from sklearn import svm, datasets\n",
    "from sklearn.metrics import confusion_matrix\n",
    "from IPython.display import clear_output\n",
    "import sys\n",
    "import time\n",
    "\n",
    "col_names_test = ['Sex','Age','Height','Weight','NOC','Year','Season','Sport','Event','Game_Med_Per','1896-1924-1','1896-1924-0','1928-1956-1','1928-1956-0','1960-1988-1','1960-1988-0','1992-2016-1','1992-2016-0','Ath_Cnt','Sex_F','Sex_M','Season_Summer','Season_Winter']\n",
    "\n",
    "df1 = pd.read_csv('UIathletes_Medyesno_test.csv', usecols = col_names_test)\n",
    "\n",
    "col_names_test4 = ['NOC','1896-1924-1','1896-1924-0','1928-1956-1','1928-1956-0','1960-1988-1','1960-1988-0','1992-2016-1','1992-2016-0']\n",
    "df2 = pd.read_csv('athletes_year_percentmedpred.csv', usecols = col_names_test4)\n",
    "\n",
    "col_names_test5 = ['NOC','Event','Game_Med_Per']\n",
    "\n",
    "df3 = pd.read_csv('athletes_country_event_medyesno.csv', usecols = col_names_test5)\n",
    "\n",
    "col_names_test6 = ['NOC','Year','Ath_Cnt']\n",
    "\n",
    "df4 = pd.read_csv('athletes_cntyesno.csv', usecols = col_names_test6)\n",
    "\n",
    "class learn_classes_and_widgets():\n",
    "    def __init__(self, param1='', param2='', param3='', param4='', param5='', param6='', param7='', param8='', param9='',param10=''):\n",
    "        self.p1_text = widgets.Text(description = 'Sex M\\F',value = param1)\n",
    "        self.p2_text = widgets.Text(description = 'Age in years',value = param2)\n",
    "        self.p3_text = widgets.Text(description = 'Height in cm',value = param3)\n",
    "        self.p4_text = widgets.Text(description = 'Weight in Kgs',value = param4)\n",
    "        self.p5_text = widgets.Text(description = 'Country Abbr',value = param5)\n",
    "        self.p6_text = widgets.Text(description = 'Year',value = param6)\n",
    "        self.p7_text = widgets.Text(description = 'Season Summer\\Winter',value = param7)\n",
    "        self.p8_text = widgets.Text(description = 'Sport',value = param8)\n",
    "        self.p9_text = widgets.Text(description = 'Event',value = param9)\n",
    "        self.p10_text = widgets.Text(description = 'Ath_Count',value = param10)\n",
    "        self.p_button = widgets.Button(description=\"Get Medal Pred\", value= param1)\n",
    "        self.p_button.on_click(self.handle_submit)\n",
    "        display(self.p1_text, self.p2_text, self.p3_text, self.p4_text, self.p5_text, self.p6_text,self.p7_text, self.p8_text, self.p9_text,self.p10_text,self.p_button,)\n",
    "    \n",
    "    def handle_submit(self, text):      \n",
    "        count = 0\n",
    "        count1 = 0\n",
    "        count2 = 0\n",
    "        count3 = 0\n",
    "        count4 = 0\n",
    "        if (self.p1_text.value == '' or self.p2_text.value == '' or self.p3_text.value == '' or self.p4_text.value == '' or self.p5_text.value == '' or self.p6_text.value == '' or self.p7_text.value == '' or self.p8_text.value == '' or self.p9_text.value == ''):\n",
    "            print ('One or More inputs missing')\n",
    "            return 'Please input your values'\n",
    "        \n",
    "        df1.iloc[0,0] = str(self.p1_text.value)\n",
    "        df1.iloc[0,1] = int(self.p2_text.value)\n",
    "        df1.iloc[0,2] = int(self.p3_text.value)\n",
    "        df1.iloc[0,3] = int(self.p4_text.value)\n",
    "        df1.iloc[0,4] = str(self.p5_text.value)\n",
    "        df1.iloc[0,5] = int(self.p6_text.value)\n",
    "        df1.iloc[0,6] = str(self.p7_text.value)\n",
    "        df1.iloc[0,7] = str(self.p8_text.value)\n",
    "        df1.iloc[0,8] = str(self.p9_text.value)\n",
    "       \n",
    "        for i in range(len(df1)):  \n",
    "            for j in range(len(df2)):\n",
    "                if df2.iloc[j,0] == df1.iloc[i,4]:\n",
    "                    count = 1\n",
    "                    df1.iloc[i,10] = df2.iloc[j,1]\n",
    "                    df1.iloc[i,11] = df2.iloc[j,2]\n",
    "                    df1.iloc[i,12] = df2.iloc[j,3]\n",
    "                    df1.iloc[i,13] = df2.iloc[j,4]\n",
    "                    df1.iloc[i,14] = df2.iloc[j,5]\n",
    "                    df1.iloc[i,15] = df2.iloc[j,6]\n",
    "                    df1.iloc[i,16] = df2.iloc[j,7]\n",
    "                    df1.iloc[i,17] = df2.iloc[j,8]\n",
    "                    j = len(df2)\n",
    "            for k in range(len(df3)):\n",
    "                if (df3.iloc[k,0] == df1.iloc[i,4] and df3.iloc[k,1] == df1.iloc[i,8]):\n",
    "                    df1.iloc[i,9] = df3.iloc[k,2]\n",
    "                    k = len(df3)\n",
    "                    count1 = 1\n",
    "\n",
    "            if df1.iloc[i,5] > 2016:\n",
    "                count2 = 1\n",
    "                df1.iloc[0,18] = str(self.p10_text.value)\n",
    "            else:\n",
    "                for l in range(len(df4)):\n",
    "                    if (df4.iloc[l,0] == df1.iloc[i,4] and df4.iloc[l,1] == df1.iloc[i,5]):\n",
    "                        df1.iloc[i,18] = df4.iloc[l,2]\n",
    "                        l = len(df4)\n",
    "                        count2 = 1\n",
    "\n",
    "            if count == 0:\n",
    "                print (\"Invalid Country Abbrevation\")\n",
    "                return 'Please input your values'\n",
    "            elif count1 == 0:\n",
    "                print (\"Invalid Event Name\")\n",
    "                return 'Please input your values'\n",
    "            elif count2 == 0:\n",
    "                print (\"Invalid Year\")\n",
    "                return 'Please input your values'\n",
    "                        \n",
    "            df1.iloc[i,4] = NOC_Map[df1.iloc[i,4]]\n",
    "            df1.iloc[i,7] = Sport_Map[df1.iloc[i,7]]\n",
    "            df1.iloc[i,8] = Event_Map[df1.iloc[i,8]]\n",
    "            if df1.iloc[i,0] == 'M':\n",
    "                df1.iloc[i,19] = 0\n",
    "                df1.iloc[i,20] = 1\n",
    "                count3 = 1\n",
    "            elif df1.iloc[i,0] == 'F':\n",
    "                df1.iloc[i,20] = 0\n",
    "                df1.iloc[i,19] = 1\n",
    "                count3 = 1\n",
    "\n",
    "            if df1.iloc[i,6] == 'Winter':\n",
    "                df1.iloc[i,21] = 0\n",
    "                df1.iloc[i,22] = 1\n",
    "                count4 = 1\n",
    "            elif df1.iloc[i,6] == 'Summer':\n",
    "                df1.iloc[i,22] = 0\n",
    "                df1.iloc[i,21] = 1\n",
    "                count4 = 1\n",
    "        \n",
    "                \n",
    "        if count3 == 0:\n",
    "            print (\"Invalid Gender\")\n",
    "            return 'Please input your values'\n",
    "        if count4 == 0:\n",
    "            print (\"Invalid Season\")\n",
    "            return 'Please input your values'\n",
    "        \n",
    "        col_names_test1 = ['Age','Height','Weight','NOC','Year','Sport','Event','Game_Med_Per','1896-1924-1','1896-1924-0','1928-1956-1','1928-1956-0','1960-1988-1','1960-1988-0','1992-2016-1','1992-2016-0','Ath_Cnt','Sex_F','Sex_M','Season_Summer','Season_Winter']\n",
    "        X1 = df1[col_names_test1].values\n",
    "        X1 = stdscaler.transform(X1)\n",
    "        pred_test=NN_model.predict(X1)\n",
    "        pred_test = np.argmax(pred_test, axis=1)\n",
    "        \n",
    "        if pred_test == 0:\n",
    "                print ('The Athelete is predicted to win no Medal')\n",
    "        if pred_test == 1:\n",
    "                print ('The Athelete is predicted to win a Medal')\n",
    "                \n",
    "f = learn_classes_and_widgets(param1 = '')\n",
    "\n"
   ]
  }
 ],
 "metadata": {
  "kernelspec": {
   "display_name": "Python 3",
   "language": "python",
   "name": "python3"
  },
  "language_info": {
   "codemirror_mode": {
    "name": "ipython",
    "version": 3
   },
   "file_extension": ".py",
   "mimetype": "text/x-python",
   "name": "python",
   "nbconvert_exporter": "python",
   "pygments_lexer": "ipython3",
   "version": "3.7.1"
  }
 },
 "nbformat": 4,
 "nbformat_minor": 2
}
